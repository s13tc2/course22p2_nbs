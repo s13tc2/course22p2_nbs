{
  "nbformat": 4,
  "nbformat_minor": 0,
  "metadata": {
    "colab": {
      "provenance": []
    },
    "kernelspec": {
      "name": "python3",
      "display_name": "Python 3"
    },
    "language_info": {
      "name": "python"
    },
    "accelerator": "GPU",
    "gpuClass": "standard"
  },
  "cells": [
    {
      "cell_type": "code",
      "execution_count": 1,
      "metadata": {
        "colab": {
          "base_uri": "https://localhost:8080/"
        },
        "id": "BcbsRSoJncuk",
        "outputId": "44b883d8-ae01-4370-a8f3-326fba27a6e7"
      },
      "outputs": [
        {
          "output_type": "stream",
          "name": "stdout",
          "text": [
            "Wed Nov  9 02:07:58 2022       \n",
            "+-----------------------------------------------------------------------------+\n",
            "| NVIDIA-SMI 460.32.03    Driver Version: 460.32.03    CUDA Version: 11.2     |\n",
            "|-------------------------------+----------------------+----------------------+\n",
            "| GPU  Name        Persistence-M| Bus-Id        Disp.A | Volatile Uncorr. ECC |\n",
            "| Fan  Temp  Perf  Pwr:Usage/Cap|         Memory-Usage | GPU-Util  Compute M. |\n",
            "|                               |                      |               MIG M. |\n",
            "|===============================+======================+======================|\n",
            "|   0  Tesla T4            Off  | 00000000:00:04.0 Off |                    0 |\n",
            "| N/A   46C    P8     9W /  70W |      0MiB / 15109MiB |      0%      Default |\n",
            "|                               |                      |                  N/A |\n",
            "+-------------------------------+----------------------+----------------------+\n",
            "                                                                               \n",
            "+-----------------------------------------------------------------------------+\n",
            "| Processes:                                                                  |\n",
            "|  GPU   GI   CI        PID   Type   Process name                  GPU Memory |\n",
            "|        ID   ID                                                   Usage      |\n",
            "|=============================================================================|\n",
            "|  No running processes found                                                 |\n",
            "+-----------------------------------------------------------------------------+\n"
          ]
        }
      ],
      "source": [
        "!nvidia-smi"
      ]
    },
    {
      "cell_type": "code",
      "source": [
        "import pickle,gzip,math,os,time,shutil,torch,matplotlib as mpl, numpy as np\n",
        "from pathlib import Path\n",
        "from torch import tensor\n",
        "from urllib.request import urlretrieve\n",
        "from fastcore.test import test_close\n",
        "torch.manual_seed(42)\n",
        "\n",
        "mpl.rcParams['image.cmap'] = 'gray'\n",
        "torch.set_printoptions(precision=2, linewidth=125, sci_mode=False)\n",
        "np.set_printoptions(precision=2, linewidth=125)\n",
        "\n",
        "MNIST_URL='https://github.com/mnielsen/neural-networks-and-deep-learning/blob/master/data/mnist.pkl.gz?raw=true'\n",
        "path_data = Path('data')\n",
        "path_data.mkdir(exist_ok=True)\n",
        "path_gz = path_data/'mnist.pkl.gz'\n",
        "\n",
        "if not path_gz.exists(): urlretrieve(MNIST_URL, path_gz)"
      ],
      "metadata": {
        "id": "WABjJ_fTnfRb"
      },
      "execution_count": 2,
      "outputs": []
    },
    {
      "cell_type": "code",
      "source": [
        "with gzip.open(path_gz, 'rb') as f: \n",
        "  ((x_train, y_train), (x_valid, y_valid), _) = pickle.load(f, encoding='latin-1')\n",
        "  \n",
        "x_train, y_train, x_valid, y_valid = map(tensor, [x_train, y_train, x_valid, y_valid])"
      ],
      "metadata": {
        "id": "x5UvcP5unmOt"
      },
      "execution_count": 3,
      "outputs": []
    },
    {
      "cell_type": "code",
      "source": [
        "!ls -l data"
      ],
      "metadata": {
        "colab": {
          "base_uri": "https://localhost:8080/"
        },
        "id": "dCGnaHC4nqM4",
        "outputId": "d0caa286-61ef-4824-91e7-4777622d331e"
      },
      "execution_count": 4,
      "outputs": [
        {
          "output_type": "stream",
          "name": "stdout",
          "text": [
            "total 16656\n",
            "-rw-r--r-- 1 root root 17051982 Nov  9 02:08 mnist.pkl.gz\n"
          ]
        }
      ]
    },
    {
      "cell_type": "markdown",
      "source": [
        "# Foundations data\n",
        "\n",
        "## Basic architecture"
      ],
      "metadata": {
        "id": "WIQ6wkU9oFa0"
      }
    },
    {
      "cell_type": "code",
      "source": [
        "row, col = x_train.shape\n",
        "c = y_train.max() + 1\n",
        "row, col, c"
      ],
      "metadata": {
        "colab": {
          "base_uri": "https://localhost:8080/"
        },
        "id": "lHakCAOsn_1J",
        "outputId": "ed81698f-ec4a-47a3-c07a-4524cf5d09e2"
      },
      "execution_count": 5,
      "outputs": [
        {
          "output_type": "execute_result",
          "data": {
            "text/plain": [
              "(50000, 784, tensor(10))"
            ]
          },
          "metadata": {},
          "execution_count": 5
        }
      ]
    },
    {
      "cell_type": "code",
      "source": [
        "y_train.unique()"
      ],
      "metadata": {
        "colab": {
          "base_uri": "https://localhost:8080/"
        },
        "id": "JZomI_uyoSJk",
        "outputId": "4cf4c680-965c-4aa4-aca6-f51a5ada92d3"
      },
      "execution_count": 6,
      "outputs": [
        {
          "output_type": "execute_result",
          "data": {
            "text/plain": [
              "tensor([0, 1, 2, 3, 4, 5, 6, 7, 8, 9])"
            ]
          },
          "metadata": {},
          "execution_count": 6
        }
      ]
    },
    {
      "cell_type": "code",
      "source": [
        "# num_hidden\n",
        "nh = 50"
      ],
      "metadata": {
        "id": "aDLR46r0oWoa"
      },
      "execution_count": 7,
      "outputs": []
    },
    {
      "cell_type": "code",
      "source": [
        "w1 = torch.randn(col, nh) # 784 50\n",
        "b1 = torch.zeros(nh) # 50\n",
        "w2 = torch.randn(nh, 1) # 50, 1\n",
        "b2 = torch.zeros(1)\n",
        "\n",
        "w1.shape, b1.shape, w2.shape, b2.shape"
      ],
      "metadata": {
        "colab": {
          "base_uri": "https://localhost:8080/"
        },
        "id": "MY3qQ8I3ogy6",
        "outputId": "7c4b79c5-ae22-41cd-ee86-cde22f3b0bdd"
      },
      "execution_count": 8,
      "outputs": [
        {
          "output_type": "execute_result",
          "data": {
            "text/plain": [
              "(torch.Size([784, 50]), torch.Size([50]), torch.Size([50, 1]), torch.Size([1]))"
            ]
          },
          "metadata": {},
          "execution_count": 8
        }
      ]
    },
    {
      "cell_type": "code",
      "source": [
        "def lin(x, w, b):\n",
        "  return x@w + b"
      ],
      "metadata": {
        "id": "TCxCeuyGovmH"
      },
      "execution_count": 9,
      "outputs": []
    },
    {
      "cell_type": "code",
      "source": [
        "print(x_valid.shape)"
      ],
      "metadata": {
        "colab": {
          "base_uri": "https://localhost:8080/"
        },
        "id": "Ac-p9n1wo6DK",
        "outputId": "921c71b0-1824-4666-a1f8-9e04560f96c4"
      },
      "execution_count": 10,
      "outputs": [
        {
          "output_type": "stream",
          "name": "stdout",
          "text": [
            "torch.Size([10000, 784])\n"
          ]
        }
      ]
    },
    {
      "cell_type": "code",
      "source": [
        "t = lin(x_valid, w1, b1) # [10000, 784] * [784, 50] -> [10000, 50] + [50]\n",
        "t.shape"
      ],
      "metadata": {
        "colab": {
          "base_uri": "https://localhost:8080/"
        },
        "id": "J29QiJrYo2Qh",
        "outputId": "d4676684-7949-4e00-f39a-f51e6b6ec306"
      },
      "execution_count": 11,
      "outputs": [
        {
          "output_type": "execute_result",
          "data": {
            "text/plain": [
              "torch.Size([10000, 50])"
            ]
          },
          "metadata": {},
          "execution_count": 11
        }
      ]
    },
    {
      "cell_type": "code",
      "source": [
        "t"
      ],
      "metadata": {
        "colab": {
          "base_uri": "https://localhost:8080/"
        },
        "id": "NszwNn6apLvI",
        "outputId": "ad4d3bbb-203d-41d0-b861-1da7fd5b6d31"
      },
      "execution_count": 12,
      "outputs": [
        {
          "output_type": "execute_result",
          "data": {
            "text/plain": [
              "tensor([[ -0.09,  11.87, -11.39,  ...,   5.48,   2.14,  15.30],\n",
              "        [  5.38,  10.21, -14.49,  ...,   0.88,   0.08,  20.23],\n",
              "        [  3.31,   0.12,   3.10,  ...,  16.89,  -6.05,  24.74],\n",
              "        ...,\n",
              "        [  4.01,  10.35, -11.25,  ...,   0.23,  -5.30,  18.28],\n",
              "        [ 10.62,  -4.27,  10.72,  ...,  -2.87,  -2.87,  18.23],\n",
              "        [  2.84,  -0.22,   1.43,  ...,  -3.91,   5.75,   2.12]])"
            ]
          },
          "metadata": {},
          "execution_count": 12
        }
      ]
    },
    {
      "cell_type": "code",
      "source": [
        "# all negative numbers get set to 0.00\n",
        "def relu(x):\n",
        "  return x.clamp_min(0.)"
      ],
      "metadata": {
        "id": "mFZ0rVZ5o8ih"
      },
      "execution_count": 13,
      "outputs": []
    },
    {
      "cell_type": "code",
      "source": [
        "t = relu(t)\n",
        "t"
      ],
      "metadata": {
        "colab": {
          "base_uri": "https://localhost:8080/"
        },
        "id": "cZKT7_UIpOZ6",
        "outputId": "2e2f4f0c-7c8e-43fd-b8c6-609c23d0bbe4"
      },
      "execution_count": 14,
      "outputs": [
        {
          "output_type": "execute_result",
          "data": {
            "text/plain": [
              "tensor([[ 0.00, 11.87,  0.00,  ...,  5.48,  2.14, 15.30],\n",
              "        [ 5.38, 10.21,  0.00,  ...,  0.88,  0.08, 20.23],\n",
              "        [ 3.31,  0.12,  3.10,  ..., 16.89,  0.00, 24.74],\n",
              "        ...,\n",
              "        [ 4.01, 10.35,  0.00,  ...,  0.23,  0.00, 18.28],\n",
              "        [10.62,  0.00, 10.72,  ...,  0.00,  0.00, 18.23],\n",
              "        [ 2.84,  0.00,  1.43,  ...,  0.00,  5.75,  2.12]])"
            ]
          },
          "metadata": {},
          "execution_count": 14
        }
      ]
    },
    {
      "cell_type": "code",
      "source": [
        "def model(xb):\n",
        "  l1 = lin(xb, w1, b1) # [10000, 50]\n",
        "  l2 = relu(l1) # all negative items get set to 0.0\n",
        "  return lin(l2, w2, b2) # [10000, 50] * [50, 1] -> [10000, 1]"
      ],
      "metadata": {
        "id": "xL5twv37pPLu"
      },
      "execution_count": 15,
      "outputs": []
    },
    {
      "cell_type": "code",
      "source": [
        "res = model(x_valid)\n",
        "res.shape"
      ],
      "metadata": {
        "colab": {
          "base_uri": "https://localhost:8080/"
        },
        "id": "pxgE5w-zpYlB",
        "outputId": "8c1399b9-8bfc-4097-fd05-4d223cac0112"
      },
      "execution_count": 16,
      "outputs": [
        {
          "output_type": "execute_result",
          "data": {
            "text/plain": [
              "torch.Size([10000, 1])"
            ]
          },
          "metadata": {},
          "execution_count": 16
        }
      ]
    },
    {
      "cell_type": "markdown",
      "source": [
        "# Loss function: MSE\n",
        "\n",
        "( Of course, `mse` is not a suitable loss function for multi-class classification; we'll use a better loss function soon. We'll use `mse` for now to keep things simple. )"
      ],
      "metadata": {
        "id": "IT6fonDYpn5N"
      }
    },
    {
      "cell_type": "code",
      "source": [
        "res.shape, y_valid.shape"
      ],
      "metadata": {
        "colab": {
          "base_uri": "https://localhost:8080/"
        },
        "id": "wbU5tajhpZ5P",
        "outputId": "4fdeb7bc-c353-4912-994a-ca57b2847136"
      },
      "execution_count": 17,
      "outputs": [
        {
          "output_type": "execute_result",
          "data": {
            "text/plain": [
              "(torch.Size([10000, 1]), torch.Size([10000]))"
            ]
          },
          "metadata": {},
          "execution_count": 17
        }
      ]
    },
    {
      "cell_type": "code",
      "source": [
        "(res - y_valid).shape"
      ],
      "metadata": {
        "colab": {
          "base_uri": "https://localhost:8080/"
        },
        "id": "24E2E3jipzzo",
        "outputId": "943de7d2-56c3-4539-87c2-deae469b2944"
      },
      "execution_count": 18,
      "outputs": [
        {
          "output_type": "execute_result",
          "data": {
            "text/plain": [
              "torch.Size([10000, 10000])"
            ]
          },
          "metadata": {},
          "execution_count": 18
        }
      ]
    },
    {
      "cell_type": "markdown",
      "source": [
        "We need to get rid of that trailing (,1), in order to use `mse`"
      ],
      "metadata": {
        "id": "7_IOtR90p3l2"
      }
    },
    {
      "cell_type": "code",
      "source": [
        "# option 1\n",
        "res[:, 0].shape"
      ],
      "metadata": {
        "colab": {
          "base_uri": "https://localhost:8080/"
        },
        "id": "D7cdNvjAp28o",
        "outputId": "4b17963f-1d8f-409c-a80e-d2f87958fdc4"
      },
      "execution_count": 19,
      "outputs": [
        {
          "output_type": "execute_result",
          "data": {
            "text/plain": [
              "torch.Size([10000])"
            ]
          },
          "metadata": {},
          "execution_count": 19
        }
      ]
    },
    {
      "cell_type": "code",
      "source": [
        "# option 2\n",
        "res.squeeze(1).shape"
      ],
      "metadata": {
        "colab": {
          "base_uri": "https://localhost:8080/"
        },
        "id": "9GgnkniXp13P",
        "outputId": "898ae4b4-0f21-4afd-a21a-edfeb746e6b9"
      },
      "execution_count": 20,
      "outputs": [
        {
          "output_type": "execute_result",
          "data": {
            "text/plain": [
              "torch.Size([10000])"
            ]
          },
          "metadata": {},
          "execution_count": 20
        }
      ]
    },
    {
      "cell_type": "code",
      "source": [
        "(res[:,0]-y_valid).shape"
      ],
      "metadata": {
        "colab": {
          "base_uri": "https://localhost:8080/"
        },
        "id": "vcy9uxTpp-LV",
        "outputId": "3de58cc2-4fad-4120-c0e0-30f99128886e"
      },
      "execution_count": 21,
      "outputs": [
        {
          "output_type": "execute_result",
          "data": {
            "text/plain": [
              "torch.Size([10000])"
            ]
          },
          "metadata": {},
          "execution_count": 21
        }
      ]
    },
    {
      "cell_type": "code",
      "source": [
        "y_train, y_valid = y_train.float(), y_valid.float()\n",
        "\n",
        "preds = model(x_train)\n",
        "preds.shape"
      ],
      "metadata": {
        "colab": {
          "base_uri": "https://localhost:8080/"
        },
        "id": "_wyvniVxqE5K",
        "outputId": "2b2b55e2-e545-4619-c589-09fb5572a4b5"
      },
      "execution_count": 22,
      "outputs": [
        {
          "output_type": "execute_result",
          "data": {
            "text/plain": [
              "torch.Size([50000, 1])"
            ]
          },
          "metadata": {},
          "execution_count": 22
        }
      ]
    },
    {
      "cell_type": "code",
      "source": [
        "def mse(output, target): \n",
        "  return (output[:,0] - target).pow(2).mean()"
      ],
      "metadata": {
        "id": "M5IE9CZUqL1q"
      },
      "execution_count": 23,
      "outputs": []
    },
    {
      "cell_type": "code",
      "source": [
        "mse(preds, y_train)"
      ],
      "metadata": {
        "colab": {
          "base_uri": "https://localhost:8080/"
        },
        "id": "ereI7nayqTkq",
        "outputId": "8e24fae0-8d21-43bd-cf52-095edc8b279a"
      },
      "execution_count": 24,
      "outputs": [
        {
          "output_type": "execute_result",
          "data": {
            "text/plain": [
              "tensor(4308.76)"
            ]
          },
          "metadata": {},
          "execution_count": 24
        }
      ]
    },
    {
      "cell_type": "markdown",
      "source": [
        "## Gradients and backward pass"
      ],
      "metadata": {
        "id": "gElZK6qjqX93"
      }
    },
    {
      "cell_type": "code",
      "source": [
        "from sympy import symbols, diff\n",
        "\n",
        "x, y = symbols('x y')\n",
        "# find deriv.\n",
        "diff(x**2, x)"
      ],
      "metadata": {
        "colab": {
          "base_uri": "https://localhost:8080/",
          "height": 39
        },
        "id": "TJderIDwqWaG",
        "outputId": "eda4c685-0f0a-4ada-ea28-1c3cb30ca72a"
      },
      "execution_count": 25,
      "outputs": [
        {
          "output_type": "execute_result",
          "data": {
            "text/plain": [
              "2*x"
            ],
            "text/latex": "$\\displaystyle 2 x$"
          },
          "metadata": {},
          "execution_count": 25
        }
      ]
    },
    {
      "cell_type": "code",
      "source": [
        "diff(3*x**2+9, x)"
      ],
      "metadata": {
        "colab": {
          "base_uri": "https://localhost:8080/",
          "height": 39
        },
        "id": "ZBXmilWcqep4",
        "outputId": "ad4fd829-ce48-47dc-a4fd-18de0953075b"
      },
      "execution_count": 26,
      "outputs": [
        {
          "output_type": "execute_result",
          "data": {
            "text/plain": [
              "6*x"
            ],
            "text/latex": "$\\displaystyle 6 x$"
          },
          "metadata": {},
          "execution_count": 26
        }
      ]
    },
    {
      "cell_type": "code",
      "source": [
        "w1.shape, b1.shape, w2.shape, b2.shape"
      ],
      "metadata": {
        "colab": {
          "base_uri": "https://localhost:8080/"
        },
        "id": "ruefIFUBKfoj",
        "outputId": "e2412b24-647d-4442-879e-c056a41f1859"
      },
      "execution_count": 30,
      "outputs": [
        {
          "output_type": "execute_result",
          "data": {
            "text/plain": [
              "(torch.Size([784, 50]), torch.Size([50]), torch.Size([50, 1]), torch.Size([1]))"
            ]
          },
          "metadata": {},
          "execution_count": 30
        }
      ]
    },
    {
      "cell_type": "code",
      "source": [
        "x_train.shape, y_train.shape"
      ],
      "metadata": {
        "colab": {
          "base_uri": "https://localhost:8080/"
        },
        "id": "zKA7NuJRK0L9",
        "outputId": "fa836930-c708-4f91-c0eb-666d3cef67fe"
      },
      "execution_count": 31,
      "outputs": [
        {
          "output_type": "execute_result",
          "data": {
            "text/plain": [
              "(torch.Size([50000, 784]), torch.Size([50000]))"
            ]
          },
          "metadata": {},
          "execution_count": 31
        }
      ]
    },
    {
      "cell_type": "code",
      "source": [
        "def lin_grad(input, output, weight, bias):\n",
        "  # grad of matmul with respect to input\n",
        "  input.g = output.g @ weight.t()\n",
        "  # import pdb; pdb.set_trace() # debugger\n",
        "  weight.g = (input.unsqueeze(-1) * output.g.unsqueeze(1)).sum(0)\n",
        "  bias.g = output.g.sum(0)"
      ],
      "metadata": {
        "id": "C-q9DAvqqjnQ"
      },
      "execution_count": 35,
      "outputs": []
    },
    {
      "cell_type": "code",
      "source": [
        "# def lin(x, w, b):\n",
        "#   return x@w + b\n",
        "\n",
        "def forward_and_backward(input, target):\n",
        "  # forward pass:\n",
        "  l1 = lin(input, w1, b1) # [50000, 784] * [784, 50] + [50]. -> [50000, 50]\n",
        "  l2 = relu(l1) # remove all negativesp and replace with 0.\n",
        "  output = lin(l2, w2, b2) # [50000, 50] * [50, 1] + [1] -> [50000, 1]\n",
        "  diff = output[:,0] - target # [50000] - [50000]\n",
        "  loss = diff.pow(2).mean() # calculate mse\n",
        "\n",
        "  # backward pass:\n",
        "  output.g = 2. * diff[:, None] / input.shape[0] \n",
        "  lin_grad(l2, output, w2, b2)\n",
        "  l1.g = (l1 > 0).float() * l2.g\n",
        "  lin_grad(input, l1, w1, b1)"
      ],
      "metadata": {
        "id": "2cR8xxX9q_Cj"
      },
      "execution_count": 36,
      "outputs": []
    },
    {
      "cell_type": "code",
      "source": [
        "forward_and_backward(x_train, y_train)"
      ],
      "metadata": {
        "id": "FWJI4jCRrX69"
      },
      "execution_count": 37,
      "outputs": []
    },
    {
      "cell_type": "code",
      "source": [
        "def get_grad(x):\n",
        "  return x.g.clone()\n",
        "\n",
        "chks = w1, w2, b1, b2, x_train\n",
        "grads = w1g, w2g, b1g, b2g, ig = map(get_grad, chks)"
      ],
      "metadata": {
        "id": "lsHUmdFDrZiZ"
      },
      "execution_count": 38,
      "outputs": []
    },
    {
      "cell_type": "code",
      "source": [
        "def mkgrad(x): \n",
        "  return x.clone().requires_grad_(True)\n",
        "ptgrads = w12,w22,b12,b22,xt2 = map(mkgrad, chks)"
      ],
      "metadata": {
        "id": "ZnN8rZgBrnEF"
      },
      "execution_count": 39,
      "outputs": []
    },
    {
      "cell_type": "code",
      "source": [
        "def forward(input, target):\n",
        "  l1 = lin(input, w12, b12)\n",
        "  l2 = relu(l1)\n",
        "  output = lin(l2, w22, b22)\n",
        "  return mse(output, target)"
      ],
      "metadata": {
        "id": "2rWojFtarx4U"
      },
      "execution_count": 40,
      "outputs": []
    },
    {
      "cell_type": "code",
      "source": [
        "loss = forward(xt2, y_train)\n",
        "loss.backward()"
      ],
      "metadata": {
        "id": "RTCaha4Yr_Vn"
      },
      "execution_count": 41,
      "outputs": []
    },
    {
      "cell_type": "code",
      "source": [
        "for a, b in zip(grads, ptgrads):\n",
        "  test_close(a.grad, b, eps=0.01)"
      ],
      "metadata": {
        "id": "LKlXbpGPsCzg"
      },
      "execution_count": 42,
      "outputs": []
    },
    {
      "cell_type": "markdown",
      "source": [
        "# Refactor model\n",
        "\n",
        "## Layers as classes"
      ],
      "metadata": {
        "id": "iLaYmUYOP-gZ"
      }
    },
    {
      "cell_type": "code",
      "source": [
        "class Relu():\n",
        "  def __call__(self, input):\n",
        "    self.input = input\n",
        "    self.output = input.clamp_min(0.)\n",
        "    return self.output\n",
        "  \n",
        "  def backward(self):\n",
        "    self.input.g = (self.input > 0).float() * self.output.g"
      ],
      "metadata": {
        "id": "Fg9qGJbbsFnJ"
      },
      "execution_count": 49,
      "outputs": []
    },
    {
      "cell_type": "code",
      "source": [
        "class Lin():\n",
        "  def __init__(self, w, b): \n",
        "    self.w = w\n",
        "    self.b = b\n",
        "  \n",
        "  def __call__(self, input):\n",
        "    self.input = input\n",
        "    self.output = lin(input, self.w, self.b)\n",
        "    return self.output\n",
        "  \n",
        "  def backward(self):\n",
        "    self.input.g = self.output.g @ self.w.t()\n",
        "    self.w.g = self.input.t() @ self.output.g\n",
        "    self.b.g = self.output.g.sum(0)"
      ],
      "metadata": {
        "id": "b81Pu6vPQLav"
      },
      "execution_count": 50,
      "outputs": []
    },
    {
      "cell_type": "code",
      "source": [
        "class Mse():\n",
        "  def __call__(self, input, target):\n",
        "    self.input = input\n",
        "    self.target = target\n",
        "    self.output = mse(input, target)\n",
        "    return self.output\n",
        "  \n",
        "  def backward(self):\n",
        "    self.input.g = 2. * (self.input.squeeze() - self.target).unsqueeze(-1) /  self.target.shape[0]           "
      ],
      "metadata": {
        "id": "Jop4O9-LQfz6"
      },
      "execution_count": 51,
      "outputs": []
    },
    {
      "cell_type": "code",
      "source": [
        "class Model():\n",
        "  def __init__(self, w1, b1, w2, b2):\n",
        "    self.layers = [Lin(w1, b1), Relu(), Lin(w2, b2)]\n",
        "    self.loss = Mse()\n",
        "\n",
        "  def __call__(self, x, targ):\n",
        "    for l in self.layers:\n",
        "      x = l(x)\n",
        "    return self.loss(x, targ)\n",
        "  \n",
        "  def backward(self):\n",
        "    self.loss.backward()\n",
        "    for l in reversed(self.layers):\n",
        "      l.backward()"
      ],
      "metadata": {
        "id": "KejpfFpSQ_RN"
      },
      "execution_count": 52,
      "outputs": []
    },
    {
      "cell_type": "code",
      "source": [
        "model = Model(w1, b1, w2, b2)"
      ],
      "metadata": {
        "id": "uiIryN-mRQBl"
      },
      "execution_count": 53,
      "outputs": []
    },
    {
      "cell_type": "code",
      "source": [
        "loss = model(x_train, y_train)"
      ],
      "metadata": {
        "id": "BzWi1PX1RShZ"
      },
      "execution_count": 54,
      "outputs": []
    },
    {
      "cell_type": "code",
      "source": [
        "model.backward()"
      ],
      "metadata": {
        "id": "jpJcsf-PRUZV"
      },
      "execution_count": 55,
      "outputs": []
    },
    {
      "cell_type": "code",
      "source": [
        "test_close(w2g, w2.g, eps=0.01)\n",
        "test_close(b2g, b2.g, eps=0.01)\n",
        "test_close(w1g, w1.g, eps=0.01)\n",
        "test_close(b1g, b1.g, eps=0.01)\n",
        "test_close(ig, x_train.g, eps=0.01)"
      ],
      "metadata": {
        "id": "V07A_0T9RVJb"
      },
      "execution_count": 56,
      "outputs": []
    },
    {
      "cell_type": "markdown",
      "source": [
        "# Module.foward()"
      ],
      "metadata": {
        "id": "LYyOBQlGY3XK"
      }
    },
    {
      "cell_type": "code",
      "source": [
        "class Module():\n",
        "  def __cal__(self, *args):\n",
        "    self.args = args\n",
        "    self.out = self.forward(*args)\n",
        "    return self.out\n",
        "  \n",
        "  def forward(self): \n",
        "    raise Exception('not implemented')\n",
        "  \n",
        "  def backward(self):\n",
        "    self.bwd(self.out, *self.args)\n",
        "  \n",
        "  def bwd(self):\n",
        "    raise Exception('not implemented')"
      ],
      "metadata": {
        "id": "ipijtuwMRdH3"
      },
      "execution_count": 57,
      "outputs": []
    },
    {
      "cell_type": "code",
      "source": [
        "class Relu(Module):\n",
        "  def forward(self, input):\n",
        "    return input.clamp_min(0.)\n",
        "  \n",
        "  def bwd(self, output, input):\n",
        "    input.g = (input > 0).float() * output.g"
      ],
      "metadata": {
        "id": "fU1diRU8ZIFk"
      },
      "execution_count": null,
      "outputs": []
    },
    {
      "cell_type": "code",
      "source": [
        "class Lin(Module):\n",
        "  def __init__(self, w, b):\n",
        "    self.w = w\n",
        "    self.b = b\n",
        "  \n",
        "  def forward(self, input):\n",
        "    return input@self.w + self.b\n",
        "  \n",
        "  def bwd(self, output, input):\n",
        "    input.g = self.output.g @ self.w.t()\n",
        "    self.w.g = input.t() @ self.output.g\n",
        "    self.b.g = self.output.g.sum(0)"
      ],
      "metadata": {
        "id": "Ajw0Vpx0jfAt"
      },
      "execution_count": null,
      "outputs": []
    },
    {
      "cell_type": "code",
      "source": [
        "class Mse(Module):\n",
        "  def forward(self, input, target):\n",
        "    return (input.squeeze() - target).pow(2).mean()\n",
        "  def bwd(self, output, input, target):\n",
        "    input.g = 2*(input.squeeze() - target).unsqueeze(-1) / target.shape[0]"
      ],
      "metadata": {
        "id": "O-h8a5aulVMg"
      },
      "execution_count": null,
      "outputs": []
    },
    {
      "cell_type": "code",
      "source": [
        "model = Model(w1, b1, w2, b2) "
      ],
      "metadata": {
        "id": "ECkI-turlVJp"
      },
      "execution_count": null,
      "outputs": []
    },
    {
      "cell_type": "code",
      "source": [
        "loss = model(x_train, y_train)"
      ],
      "metadata": {
        "id": "x1XW34SllVFh"
      },
      "execution_count": null,
      "outputs": []
    },
    {
      "cell_type": "code",
      "source": [
        "model.backward()"
      ],
      "metadata": {
        "id": "PFh3h9X8oiB0"
      },
      "execution_count": null,
      "outputs": []
    },
    {
      "cell_type": "code",
      "source": [
        "test_close(w2g, w2.g, eps=0.01)\n",
        "test_close(b2g, b2.g, eps=0.01)\n",
        "test_close(w1g, w1.g, eps=0.01)\n",
        "test_close(b1g, b1.g, eps=0.01)\n",
        "test_close(ig, x_train.g, eps=0.01)"
      ],
      "metadata": {
        "id": "4Ju13FNsoklh"
      },
      "execution_count": null,
      "outputs": []
    },
    {
      "cell_type": "markdown",
      "source": [
        "# Autograd"
      ],
      "metadata": {
        "id": "g0mQqXXJomNz"
      }
    },
    {
      "cell_type": "code",
      "source": [
        "from torch import nn\n",
        "import torch.nn.functional as F"
      ],
      "metadata": {
        "id": "yAYLNyPkom1B"
      },
      "execution_count": 1,
      "outputs": []
    },
    {
      "cell_type": "code",
      "source": [
        "class Linear(nn.Module):\n",
        "  def __init__(self, n_input, n_output):\n",
        "    super().__init__()\n",
        "    self.w = torch.randn(n_input, n_output).requires_grad_()\n",
        "    self.b = torch.zeros(n_output).requires_grad_()\n",
        "  \n",
        "  def forward(self, input):\n",
        "    return input@self.w + self.b"
      ],
      "metadata": {
        "id": "KPmu2aPzoqTQ"
      },
      "execution_count": 3,
      "outputs": []
    },
    {
      "cell_type": "code",
      "source": [
        "class Model(nn.Module):\n",
        "  def __init__(self, n_input, n_hidden, n_output):\n",
        "    super().__init__()\n",
        "    self.layers = [Linear(n_input, n_hidden), nn.ReLU(), Linear(n_hidden, n_output)]\n",
        "\n",
        "  def __cal__(self, x, target):\n",
        "    for l in self.layers:\n",
        "      x = l(x)\n",
        "    return F.mse_loss(x, target[:,None])"
      ],
      "metadata": {
        "id": "sVncTkCDo4wF"
      },
      "execution_count": null,
      "outputs": []
    },
    {
      "cell_type": "code",
      "source": [
        "model = Model(model, n_hidden, 1)\n",
        "loss = model(x_train, y_train)\n",
        "loss.backward()"
      ],
      "metadata": {
        "id": "SqWGF0hCpQFo"
      },
      "execution_count": null,
      "outputs": []
    },
    {
      "cell_type": "code",
      "source": [
        "l0 = model.layers[0]\n",
        "l0.b.grad"
      ],
      "metadata": {
        "id": "3syHHnTVpXNL"
      },
      "execution_count": null,
      "outputs": []
    }
  ]
}
{
  "nbformat": 4,
  "nbformat_minor": 0,
  "metadata": {
    "colab": {
      "provenance": [],
      "collapsed_sections": []
    },
    "kernelspec": {
      "name": "python3",
      "display_name": "Python 3"
    },
    "language_info": {
      "name": "python"
    },
    "widgets": {
      "application/vnd.jupyter.widget-state+json": {
        "2c60f54cc7374f0d9cec8a44191e9f14": {
          "model_module": "@jupyter-widgets/controls",
          "model_name": "ButtonModel",
          "model_module_version": "1.5.0",
          "state": {
            "_dom_classes": [],
            "_model_module": "@jupyter-widgets/controls",
            "_model_module_version": "1.5.0",
            "_model_name": "ButtonModel",
            "_view_count": null,
            "_view_module": "@jupyter-widgets/controls",
            "_view_module_version": "1.5.0",
            "_view_name": "ButtonView",
            "button_style": "",
            "description": "Click me",
            "disabled": false,
            "icon": "",
            "layout": "IPY_MODEL_040a9d6dd6be44b79bf16236d03384b9",
            "style": "IPY_MODEL_f5cc2e4700594d879d50058d90a25583",
            "tooltip": ""
          }
        },
        "040a9d6dd6be44b79bf16236d03384b9": {
          "model_module": "@jupyter-widgets/base",
          "model_name": "LayoutModel",
          "model_module_version": "1.2.0",
          "state": {
            "_model_module": "@jupyter-widgets/base",
            "_model_module_version": "1.2.0",
            "_model_name": "LayoutModel",
            "_view_count": null,
            "_view_module": "@jupyter-widgets/base",
            "_view_module_version": "1.2.0",
            "_view_name": "LayoutView",
            "align_content": null,
            "align_items": null,
            "align_self": null,
            "border": null,
            "bottom": null,
            "display": null,
            "flex": null,
            "flex_flow": null,
            "grid_area": null,
            "grid_auto_columns": null,
            "grid_auto_flow": null,
            "grid_auto_rows": null,
            "grid_column": null,
            "grid_gap": null,
            "grid_row": null,
            "grid_template_areas": null,
            "grid_template_columns": null,
            "grid_template_rows": null,
            "height": null,
            "justify_content": null,
            "justify_items": null,
            "left": null,
            "margin": null,
            "max_height": null,
            "max_width": null,
            "min_height": null,
            "min_width": null,
            "object_fit": null,
            "object_position": null,
            "order": null,
            "overflow": null,
            "overflow_x": null,
            "overflow_y": null,
            "padding": null,
            "right": null,
            "top": null,
            "visibility": null,
            "width": null
          }
        },
        "f5cc2e4700594d879d50058d90a25583": {
          "model_module": "@jupyter-widgets/controls",
          "model_name": "ButtonStyleModel",
          "model_module_version": "1.5.0",
          "state": {
            "_model_module": "@jupyter-widgets/controls",
            "_model_module_version": "1.5.0",
            "_model_name": "ButtonStyleModel",
            "_view_count": null,
            "_view_module": "@jupyter-widgets/base",
            "_view_module_version": "1.2.0",
            "_view_name": "StyleView",
            "button_color": null,
            "font_weight": ""
          }
        }
      }
    }
  },
  "cells": [
    {
      "cell_type": "code",
      "execution_count": 1,
      "metadata": {
        "id": "0FoB_6drX2qy"
      },
      "outputs": [],
      "source": [
        "import torch\n",
        "import matplotlib.pyplot as plt\n",
        "import random"
      ]
    },
    {
      "cell_type": "markdown",
      "source": [
        "# Callbacks\n",
        "\n",
        "## Callbacks as GUI events"
      ],
      "metadata": {
        "id": "rgfuI1QccsBN"
      }
    },
    {
      "cell_type": "code",
      "source": [
        "import ipywidgets as widgets"
      ],
      "metadata": {
        "id": "KtDHxY4NcrZB"
      },
      "execution_count": 2,
      "outputs": []
    },
    {
      "cell_type": "code",
      "source": [
        "def f(o):\n",
        "  print('hi')"
      ],
      "metadata": {
        "id": "LFrCFGAicv7o"
      },
      "execution_count": 3,
      "outputs": []
    },
    {
      "cell_type": "code",
      "source": [
        "w = widgets.Button(description='Click me')"
      ],
      "metadata": {
        "id": "i8_WZ1QKcxRF"
      },
      "execution_count": 4,
      "outputs": []
    },
    {
      "cell_type": "code",
      "source": [
        "w"
      ],
      "metadata": {
        "colab": {
          "base_uri": "https://localhost:8080/",
          "height": 49,
          "referenced_widgets": [
            "2c60f54cc7374f0d9cec8a44191e9f14",
            "040a9d6dd6be44b79bf16236d03384b9",
            "f5cc2e4700594d879d50058d90a25583"
          ]
        },
        "id": "fUxhYxebc09n",
        "outputId": "6585034c-fc78-4b00-f7c4-208862c90d44"
      },
      "execution_count": 5,
      "outputs": [
        {
          "output_type": "display_data",
          "data": {
            "text/plain": [
              "Button(description='Click me', style=ButtonStyle())"
            ],
            "application/vnd.jupyter.widget-view+json": {
              "version_major": 2,
              "version_minor": 0,
              "model_id": "2c60f54cc7374f0d9cec8a44191e9f14"
            }
          },
          "metadata": {}
        }
      ]
    },
    {
      "cell_type": "code",
      "source": [
        "w.on_click(f)"
      ],
      "metadata": {
        "id": "XsOq9z-ac1L9"
      },
      "execution_count": 6,
      "outputs": []
    },
    {
      "cell_type": "code",
      "source": [
        "w"
      ],
      "metadata": {
        "colab": {
          "base_uri": "https://localhost:8080/",
          "height": 103,
          "referenced_widgets": [
            "2c60f54cc7374f0d9cec8a44191e9f14",
            "040a9d6dd6be44b79bf16236d03384b9",
            "f5cc2e4700594d879d50058d90a25583"
          ]
        },
        "id": "5s50_VZuc4VA",
        "outputId": "94de2b95-ef5c-4650-a426-34bdb655cf5b"
      },
      "execution_count": 7,
      "outputs": [
        {
          "output_type": "display_data",
          "data": {
            "text/plain": [
              "Button(description='Click me', style=ButtonStyle())"
            ],
            "application/vnd.jupyter.widget-view+json": {
              "version_major": 2,
              "version_minor": 0,
              "model_id": "2c60f54cc7374f0d9cec8a44191e9f14"
            }
          },
          "metadata": {}
        },
        {
          "output_type": "stream",
          "name": "stdout",
          "text": [
            "hi\n",
            "hi\n",
            "hi\n"
          ]
        }
      ]
    },
    {
      "cell_type": "markdown",
      "source": [
        "# Creating your own callback"
      ],
      "metadata": {
        "id": "XKSRoiwDc7QF"
      }
    },
    {
      "cell_type": "code",
      "source": [
        "from time import sleep"
      ],
      "metadata": {
        "id": "O9wdZELAc5Bx"
      },
      "execution_count": 8,
      "outputs": []
    },
    {
      "cell_type": "code",
      "source": [
        "def slow_calculation():\n",
        "  res = 0\n",
        "  for i in range(5):\n",
        "    res += i * i \n",
        "    sleep(1)\n",
        "  return res"
      ],
      "metadata": {
        "id": "7DGiqTsTdACt"
      },
      "execution_count": 9,
      "outputs": []
    },
    {
      "cell_type": "code",
      "source": [
        "slow_calculation()"
      ],
      "metadata": {
        "colab": {
          "base_uri": "https://localhost:8080/"
        },
        "id": "xKMYKOH2dEi8",
        "outputId": "93241c2c-de5a-45bd-ec3d-816cef6c1233"
      },
      "execution_count": 10,
      "outputs": [
        {
          "output_type": "execute_result",
          "data": {
            "text/plain": [
              "30"
            ]
          },
          "metadata": {},
          "execution_count": 10
        }
      ]
    },
    {
      "cell_type": "code",
      "source": [
        "def slow_calculation(cb=None):\n",
        "  res = 0\n",
        "  for i in range(5):\n",
        "    res += i * i\n",
        "    sleep(1)\n",
        "    if cb:\n",
        "      cb(i)\n",
        "  return res"
      ],
      "metadata": {
        "id": "G16ohW8RdFg7"
      },
      "execution_count": 11,
      "outputs": []
    },
    {
      "cell_type": "code",
      "source": [
        "def show_progress(epoch):\n",
        "  print(f\"Awesome! We've finished epoch {epoch}\")"
      ],
      "metadata": {
        "id": "gqBluH2FdNlD"
      },
      "execution_count": 12,
      "outputs": []
    },
    {
      "cell_type": "code",
      "source": [
        "slow_calculation(show_progress)"
      ],
      "metadata": {
        "colab": {
          "base_uri": "https://localhost:8080/"
        },
        "id": "Cp3i0DGhdSOI",
        "outputId": "bbc6ca1b-5986-4dd6-ea76-c9749a2da51d"
      },
      "execution_count": 13,
      "outputs": [
        {
          "output_type": "stream",
          "name": "stdout",
          "text": [
            "Awesome! We've finished epoch 0\n",
            "Awesome! We've finished epoch 1\n",
            "Awesome! We've finished epoch 2\n",
            "Awesome! We've finished epoch 3\n",
            "Awesome! We've finished epoch 4\n"
          ]
        },
        {
          "output_type": "execute_result",
          "data": {
            "text/plain": [
              "30"
            ]
          },
          "metadata": {},
          "execution_count": 13
        }
      ]
    },
    {
      "cell_type": "markdown",
      "source": [
        "# Lambda and partials"
      ],
      "metadata": {
        "id": "WlzPa043dVsT"
      }
    },
    {
      "cell_type": "code",
      "source": [
        "slow_calculation(lambda o: print(f\"Awesome! We've finished epoch {o}!\"))"
      ],
      "metadata": {
        "colab": {
          "base_uri": "https://localhost:8080/"
        },
        "id": "Bi2qIMNIdT0-",
        "outputId": "a8a5c39c-4775-4eec-e653-e292f4154031"
      },
      "execution_count": 14,
      "outputs": [
        {
          "output_type": "stream",
          "name": "stdout",
          "text": [
            "Awesome! We've finished epoch 0!\n",
            "Awesome! We've finished epoch 1!\n",
            "Awesome! We've finished epoch 2!\n",
            "Awesome! We've finished epoch 3!\n",
            "Awesome! We've finished epoch 4!\n"
          ]
        },
        {
          "output_type": "execute_result",
          "data": {
            "text/plain": [
              "30"
            ]
          },
          "metadata": {},
          "execution_count": 14
        }
      ]
    },
    {
      "cell_type": "code",
      "source": [
        "def show_progress(exclamation, epoch):\n",
        "  print(f\"{exclamation}! We've finished epoch {epoch}!\")"
      ],
      "metadata": {
        "id": "6xhY5Py0daoV"
      },
      "execution_count": 15,
      "outputs": []
    },
    {
      "cell_type": "markdown",
      "source": [],
      "metadata": {
        "id": "cYERyanMdkaH"
      }
    },
    {
      "cell_type": "code",
      "source": [
        "slow_calculation(lambda o: show_progress(\"OK I guess\", o))"
      ],
      "metadata": {
        "colab": {
          "base_uri": "https://localhost:8080/"
        },
        "id": "dVYdF9Zzdjn9",
        "outputId": "6e4222a6-4c68-47aa-b11a-163e7059f646"
      },
      "execution_count": 16,
      "outputs": [
        {
          "output_type": "stream",
          "name": "stdout",
          "text": [
            "OK I guess! We've finished epoch 0\n",
            "OK I guess! We've finished epoch 1\n",
            "OK I guess! We've finished epoch 2\n",
            "OK I guess! We've finished epoch 3\n",
            "OK I guess! We've finished epoch 4\n"
          ]
        },
        {
          "output_type": "execute_result",
          "data": {
            "text/plain": [
              "30"
            ]
          },
          "metadata": {},
          "execution_count": 16
        }
      ]
    },
    {
      "cell_type": "code",
      "source": [
        "def make_show_progress(exclamation): \n",
        "  _inner = lambda epoch: print(f\"{exclamation}! We've finished epoch {epoch}\")\n",
        "  return _inner"
      ],
      "metadata": {
        "id": "5aK7VZVPdoZt"
      },
      "execution_count": 17,
      "outputs": []
    },
    {
      "cell_type": "code",
      "source": [
        "slow_calculation(make_show_progress(\"Nice!\"))"
      ],
      "metadata": {
        "colab": {
          "base_uri": "https://localhost:8080/"
        },
        "id": "z7yl9PTgd2r-",
        "outputId": "24d0fae0-0eac-41f2-a9a9-63bf57ef7cf9"
      },
      "execution_count": 18,
      "outputs": [
        {
          "output_type": "stream",
          "name": "stdout",
          "text": [
            "Nice!! We've finished epoch 0\n",
            "Nice!! We've finished epoch 1\n",
            "Nice!! We've finished epoch 2\n",
            "Nice!! We've finished epoch 3\n",
            "Nice!! We've finished epoch 4\n"
          ]
        },
        {
          "output_type": "execute_result",
          "data": {
            "text/plain": [
              "30"
            ]
          },
          "metadata": {},
          "execution_count": 18
        }
      ]
    },
    {
      "cell_type": "code",
      "source": [
        "def make_show_progress(exclamation):\n",
        "    # Leading \"_\" is generally understood to be \"private\"\n",
        "    def _inner(epoch): \n",
        "      print(f\"{exclamation}! We've finished epoch {epoch}!\")\n",
        "    return _inner"
      ],
      "metadata": {
        "id": "icBrl49Od5oY"
      },
      "execution_count": 19,
      "outputs": []
    },
    {
      "cell_type": "code",
      "source": [
        "slow_calculation(make_show_progress(\"Nice!\"))"
      ],
      "metadata": {
        "colab": {
          "base_uri": "https://localhost:8080/"
        },
        "id": "wjagBzgDd869",
        "outputId": "521cc16c-e14c-44b2-e5b4-2f131ffe9063"
      },
      "execution_count": 20,
      "outputs": [
        {
          "output_type": "stream",
          "name": "stdout",
          "text": [
            "Nice!! We've finished epoch 0!\n",
            "Nice!! We've finished epoch 1!\n",
            "Nice!! We've finished epoch 2!\n",
            "Nice!! We've finished epoch 3!\n",
            "Nice!! We've finished epoch 4!\n"
          ]
        },
        {
          "output_type": "execute_result",
          "data": {
            "text/plain": [
              "30"
            ]
          },
          "metadata": {},
          "execution_count": 20
        }
      ]
    },
    {
      "cell_type": "code",
      "source": [
        "f2 = make_show_progress(\"Terrific\")"
      ],
      "metadata": {
        "id": "J6a0kiafd-Ez"
      },
      "execution_count": 21,
      "outputs": []
    },
    {
      "cell_type": "code",
      "source": [
        "slow_calculation(f2)"
      ],
      "metadata": {
        "colab": {
          "base_uri": "https://localhost:8080/"
        },
        "id": "QkkwljYoeAK2",
        "outputId": "dc220791-3de5-468f-bf7b-755c0ba908d6"
      },
      "execution_count": 22,
      "outputs": [
        {
          "output_type": "stream",
          "name": "stdout",
          "text": [
            "Terrific! We've finished epoch 0!\n",
            "Terrific! We've finished epoch 1!\n",
            "Terrific! We've finished epoch 2!\n",
            "Terrific! We've finished epoch 3!\n",
            "Terrific! We've finished epoch 4!\n"
          ]
        },
        {
          "output_type": "execute_result",
          "data": {
            "text/plain": [
              "30"
            ]
          },
          "metadata": {},
          "execution_count": 22
        }
      ]
    },
    {
      "cell_type": "code",
      "source": [
        "slow_calculation(make_show_progress(\"Amazing\"))"
      ],
      "metadata": {
        "id": "WzvN8NpCeCek"
      },
      "execution_count": null,
      "outputs": []
    },
    {
      "cell_type": "code",
      "source": [
        "from functools import partial"
      ],
      "metadata": {
        "id": "SgjOfAzceEIX"
      },
      "execution_count": 24,
      "outputs": []
    },
    {
      "cell_type": "code",
      "source": [
        "slow_calculation(partial(show_progress, \"OK I guess\"))"
      ],
      "metadata": {
        "colab": {
          "base_uri": "https://localhost:8080/"
        },
        "id": "1X8k7PoleEGG",
        "outputId": "7c97d02d-d564-45e6-bd3f-84f5afc34862"
      },
      "execution_count": 25,
      "outputs": [
        {
          "output_type": "stream",
          "name": "stdout",
          "text": [
            "OK I guess! We've finished epoch 0\n",
            "OK I guess! We've finished epoch 1\n",
            "OK I guess! We've finished epoch 2\n",
            "OK I guess! We've finished epoch 3\n",
            "OK I guess! We've finished epoch 4\n"
          ]
        },
        {
          "output_type": "execute_result",
          "data": {
            "text/plain": [
              "30"
            ]
          },
          "metadata": {},
          "execution_count": 25
        }
      ]
    },
    {
      "cell_type": "code",
      "source": [
        "f2 = partial(show_progress, \"OK I guess\")"
      ],
      "metadata": {
        "id": "vvoOxgzbeEEK"
      },
      "execution_count": 26,
      "outputs": []
    },
    {
      "cell_type": "code",
      "source": [
        "partial?"
      ],
      "metadata": {
        "id": "4WapUuWDeEBk"
      },
      "execution_count": 28,
      "outputs": []
    },
    {
      "cell_type": "code",
      "source": [],
      "metadata": {
        "id": "a4ehM6rLeD-B"
      },
      "execution_count": null,
      "outputs": []
    },
    {
      "cell_type": "markdown",
      "source": [
        "# Callbacks as callable classes"
      ],
      "metadata": {
        "id": "W9mmeiI3eURt"
      }
    },
    {
      "cell_type": "code",
      "source": [
        "class ProgressShowingCallback():\n",
        "  def __init__(self, exclamation=\"Awesome\"):\n",
        "    self.exclamation = exclamation\n",
        "  \n",
        "  def __call__(self, epoch):\n",
        "    print(f\"{self.exclamation}! We've finished epoch {epoch}!\")"
      ],
      "metadata": {
        "id": "8VHG8NBEeD7l"
      },
      "execution_count": 32,
      "outputs": []
    },
    {
      "cell_type": "code",
      "source": [
        "cb = ProgressShowingCallback(\"Just super\")"
      ],
      "metadata": {
        "id": "40i6sfNgel9g"
      },
      "execution_count": 33,
      "outputs": []
    },
    {
      "cell_type": "code",
      "source": [
        "slow_calculation(cb)"
      ],
      "metadata": {
        "colab": {
          "base_uri": "https://localhost:8080/"
        },
        "id": "5r9Ot4Flenft",
        "outputId": "9029baac-e1c9-4006-89d4-c24344af3e2a"
      },
      "execution_count": 34,
      "outputs": [
        {
          "output_type": "stream",
          "name": "stdout",
          "text": [
            "Just super! We've finished epoch 0!\n",
            "Just super! We've finished epoch 1!\n",
            "Just super! We've finished epoch 2!\n",
            "Just super! We've finished epoch 3!\n",
            "Just super! We've finished epoch 4!\n"
          ]
        },
        {
          "output_type": "execute_result",
          "data": {
            "text/plain": [
              "30"
            ]
          },
          "metadata": {},
          "execution_count": 34
        }
      ]
    },
    {
      "cell_type": "markdown",
      "source": [
        "# Multiple callback funcs; `*args` and `**kwargs`"
      ],
      "metadata": {
        "id": "31ShcbVfetBq"
      }
    },
    {
      "cell_type": "code",
      "source": [
        "def f(*args, **kwargs):\n",
        "  print(f\"args: {args}; kwargs: {kwargs}\")"
      ],
      "metadata": {
        "id": "8_2GoVdgeolV"
      },
      "execution_count": 35,
      "outputs": []
    },
    {
      "cell_type": "code",
      "source": [
        "f(3, 'a', thing1='hello')"
      ],
      "metadata": {
        "colab": {
          "base_uri": "https://localhost:8080/"
        },
        "id": "HirD0s-je2aJ",
        "outputId": "d73b61d5-f988-4ceb-a6bf-802c76245099"
      },
      "execution_count": 36,
      "outputs": [
        {
          "output_type": "stream",
          "name": "stdout",
          "text": [
            "args: (3, 'a'); kwargs: {'thing1': 'hello'}\n"
          ]
        }
      ]
    },
    {
      "cell_type": "code",
      "source": [
        "def slow_calculation(cb=None):\n",
        "    res = 0\n",
        "    for i in range(5):\n",
        "        if cb: cb.before_calc(i)\n",
        "        res += i*i\n",
        "        sleep(1)\n",
        "        if cb: cb.after_calc(i, val=res)\n",
        "    return res"
      ],
      "metadata": {
        "id": "YXF14my2e4TN"
      },
      "execution_count": 37,
      "outputs": []
    },
    {
      "cell_type": "code",
      "source": [
        "class PrintStepCallback():\n",
        "    def __init__(self): pass\n",
        "    def before_calc(self, *args, **kwargs): print(f\"About to start\")\n",
        "    def after_calc (self, *args, **kwargs): print(f\"Done step\")"
      ],
      "metadata": {
        "id": "Z1ECxHYqe_t7"
      },
      "execution_count": 38,
      "outputs": []
    },
    {
      "cell_type": "code",
      "source": [
        "slow_calculation(PrintStepCallback())"
      ],
      "metadata": {
        "colab": {
          "base_uri": "https://localhost:8080/"
        },
        "id": "0VIf5U9AfBVt",
        "outputId": "021524ad-0b38-4921-8c6c-eae68220c7d7"
      },
      "execution_count": 39,
      "outputs": [
        {
          "output_type": "stream",
          "name": "stdout",
          "text": [
            "About to start\n",
            "Done step\n",
            "About to start\n",
            "Done step\n",
            "About to start\n",
            "Done step\n",
            "About to start\n",
            "Done step\n",
            "About to start\n",
            "Done step\n"
          ]
        },
        {
          "output_type": "execute_result",
          "data": {
            "text/plain": [
              "30"
            ]
          },
          "metadata": {},
          "execution_count": 39
        }
      ]
    },
    {
      "cell_type": "code",
      "source": [
        "class PrintStatusCallback():\n",
        "    def __init__(self): pass\n",
        "    def before_calc(self, epoch, **kwargs): print(f\"About to start: {epoch}\")\n",
        "    def after_calc (self, epoch, val, **kwargs): print(f\"After {epoch}: {val}\")"
      ],
      "metadata": {
        "id": "W42TRgWrfEbP"
      },
      "execution_count": 40,
      "outputs": []
    },
    {
      "cell_type": "code",
      "source": [
        "slow_calculation(PrintStatusCallback())"
      ],
      "metadata": {
        "colab": {
          "base_uri": "https://localhost:8080/"
        },
        "id": "d9oKB_-dfHT4",
        "outputId": "2e04d38f-a051-4c2d-a6ca-6bd047ef7243"
      },
      "execution_count": 41,
      "outputs": [
        {
          "output_type": "stream",
          "name": "stdout",
          "text": [
            "About to start: 0\n",
            "After 0: 0\n",
            "About to start: 1\n",
            "After 1: 1\n",
            "About to start: 2\n",
            "After 2: 5\n",
            "About to start: 3\n",
            "After 3: 14\n",
            "About to start: 4\n",
            "After 4: 30\n"
          ]
        },
        {
          "output_type": "execute_result",
          "data": {
            "text/plain": [
              "30"
            ]
          },
          "metadata": {},
          "execution_count": 41
        }
      ]
    },
    {
      "cell_type": "markdown",
      "source": [
        "# Modifying behavior"
      ],
      "metadata": {
        "id": "O4FBXsG3huXq"
      }
    },
    {
      "cell_type": "code",
      "source": [
        "def slow_calculation(cb=None):\n",
        "    res = 0\n",
        "    for i in range(5):\n",
        "        if cb and hasattr(cb,'before_calc'): cb.before_calc(i)\n",
        "        res += i*i\n",
        "        sleep(1)\n",
        "        if cb and hasattr(cb,'after_calc'):\n",
        "            if cb.after_calc(i, res):\n",
        "                print(\"stopping early\")\n",
        "                break\n",
        "    return res"
      ],
      "metadata": {
        "id": "IIWXK01ufIeG"
      },
      "execution_count": 42,
      "outputs": []
    },
    {
      "cell_type": "code",
      "source": [
        "class PrintAfterCallback():\n",
        "    def after_calc (self, epoch, val):\n",
        "        print(f\"After {epoch}: {val}\")\n",
        "        if val>10: return True"
      ],
      "metadata": {
        "id": "RcV3RZDMhxQ9"
      },
      "execution_count": 43,
      "outputs": []
    },
    {
      "cell_type": "code",
      "source": [
        "slow_calculation(PrintAfterCallback())"
      ],
      "metadata": {
        "colab": {
          "base_uri": "https://localhost:8080/"
        },
        "id": "DSugdW0ohzBp",
        "outputId": "dc4f2c82-52fe-462b-cba7-75bc567233d3"
      },
      "execution_count": 44,
      "outputs": [
        {
          "output_type": "stream",
          "name": "stdout",
          "text": [
            "After 0: 0\n",
            "After 1: 1\n",
            "After 2: 5\n",
            "After 3: 14\n",
            "stopping early\n"
          ]
        },
        {
          "output_type": "execute_result",
          "data": {
            "text/plain": [
              "14"
            ]
          },
          "metadata": {},
          "execution_count": 44
        }
      ]
    },
    {
      "cell_type": "code",
      "source": [
        "class SlowCalculator():\n",
        "    def __init__(self, cb=None): self.cb,self.res = cb,0\n",
        "    \n",
        "    def callback(self, cb_name, *args):\n",
        "        if not self.cb: return\n",
        "        cb = getattr(self.cb,cb_name, None)\n",
        "        if cb: return cb(self, *args)\n",
        "\n",
        "    def calc(self):\n",
        "        for i in range(5):\n",
        "            self.callback('before_calc', i)\n",
        "            self.res += i*i\n",
        "            sleep(1)\n",
        "            if self.callback('after_calc', i):\n",
        "                print(\"stopping early\")\n",
        "                break"
      ],
      "metadata": {
        "id": "AHzV-oOph4Pi"
      },
      "execution_count": 45,
      "outputs": []
    },
    {
      "cell_type": "code",
      "source": [
        "class ModifyingCallback():\n",
        "    def after_calc (self, calc, epoch):\n",
        "        print(f\"After {epoch}: {calc.res}\")\n",
        "        if calc.res>10: return True\n",
        "        if calc.res<3: calc.res = calc.res*2"
      ],
      "metadata": {
        "id": "acrGJbg-h6aO"
      },
      "execution_count": 46,
      "outputs": []
    },
    {
      "cell_type": "code",
      "source": [
        "calculator = SlowCalculator(ModifyingCallback())"
      ],
      "metadata": {
        "id": "ctLxNKE8h8KG"
      },
      "execution_count": 47,
      "outputs": []
    },
    {
      "cell_type": "code",
      "source": [
        "calculator.calc()\n",
        "calculator.res"
      ],
      "metadata": {
        "colab": {
          "base_uri": "https://localhost:8080/"
        },
        "id": "Xpd-NTBHh9Hm",
        "outputId": "6282bbf7-1f7a-4383-89c6-c2729c9a1cfe"
      },
      "execution_count": 48,
      "outputs": [
        {
          "output_type": "stream",
          "name": "stdout",
          "text": [
            "After 0: 0\n",
            "After 1: 1\n",
            "After 2: 6\n",
            "After 3: 15\n",
            "stopping early\n"
          ]
        },
        {
          "output_type": "execute_result",
          "data": {
            "text/plain": [
              "15"
            ]
          },
          "metadata": {},
          "execution_count": 48
        }
      ]
    },
    {
      "cell_type": "markdown",
      "source": [
        "# `__dunder__` thingies\n",
        "\n",
        "Anything that looks like `__this__` is, in some way, special. Python, or some library, can define some functions that they will call at certain documented times.\n",
        "\n",
        "For instance, when your class is setting up a new object, python will call `__init__`. these are defined as part of the python data model.\n",
        "\n",
        "For instance, if python sees `+`, then it will call the special method `__add__`. If you try to display an object in Jupyter (or lots of other places in Python) it will call `__repr__`."
      ],
      "metadata": {
        "id": "_rRwcmuCkEBJ"
      }
    },
    {
      "cell_type": "code",
      "source": [
        "class SloppyAdder():\n",
        "    def __init__(self,o): self.o=o\n",
        "    def __add__(self,b): return SloppyAdder(self.o + b.o + 0.01)\n",
        "    def __repr__(self): return str(self.o)\n",
        "\n",
        "\n",
        "\n",
        "a = SloppyAdder(1)\n",
        "b = SloppyAdder(2)\n",
        "a+b"
      ],
      "metadata": {
        "colab": {
          "base_uri": "https://localhost:8080/"
        },
        "id": "O5KsFE65h_zP",
        "outputId": "ff2244d6-8ec2-4386-c63c-78367aa2895a"
      },
      "execution_count": 49,
      "outputs": [
        {
          "output_type": "execute_result",
          "data": {
            "text/plain": [
              "3.01"
            ]
          },
          "metadata": {},
          "execution_count": 49
        }
      ]
    },
    {
      "cell_type": "markdown",
      "source": [
        "`__getattr__` and `getattr`"
      ],
      "metadata": {
        "id": "qm32Qsa1kr6m"
      }
    },
    {
      "cell_type": "code",
      "source": [
        "class A:\n",
        "    a,b=1,2\n",
        "\n",
        "a = A()\n",
        "a.b"
      ],
      "metadata": {
        "colab": {
          "base_uri": "https://localhost:8080/"
        },
        "id": "GEGjwFJJkiUJ",
        "outputId": "61ad5ef9-9869-456f-8a5d-0631d183cc1b"
      },
      "execution_count": 50,
      "outputs": [
        {
          "output_type": "execute_result",
          "data": {
            "text/plain": [
              "2"
            ]
          },
          "metadata": {},
          "execution_count": 50
        }
      ]
    },
    {
      "cell_type": "code",
      "source": [
        "getattr(a, 'b' if random.random()>0.5 else 'a')"
      ],
      "metadata": {
        "colab": {
          "base_uri": "https://localhost:8080/"
        },
        "id": "QC6s2kzkkxcC",
        "outputId": "8d0a2ef5-30b9-48d0-9e55-6975fceebb86"
      },
      "execution_count": 51,
      "outputs": [
        {
          "output_type": "execute_result",
          "data": {
            "text/plain": [
              "1"
            ]
          },
          "metadata": {},
          "execution_count": 51
        }
      ]
    },
    {
      "cell_type": "code",
      "source": [
        "class B:\n",
        "    a,b=1,2\n",
        "    def __getattr__(self, k):\n",
        "        if k[0]=='_': raise AttributeError(k)\n",
        "        return f'Hello from {k}'"
      ],
      "metadata": {
        "id": "Jfi-1FAgkygA"
      },
      "execution_count": 52,
      "outputs": []
    },
    {
      "cell_type": "code",
      "source": [
        "b = B()"
      ],
      "metadata": {
        "id": "orlGmkc-kzyc"
      },
      "execution_count": 53,
      "outputs": []
    },
    {
      "cell_type": "code",
      "source": [
        "b.foo"
      ],
      "metadata": {
        "colab": {
          "base_uri": "https://localhost:8080/",
          "height": 35
        },
        "id": "hALw6BNKk1LH",
        "outputId": "a3127715-6dbe-497e-9011-d2b426cd208a"
      },
      "execution_count": 54,
      "outputs": [
        {
          "output_type": "execute_result",
          "data": {
            "text/plain": [
              "'Hello from foo'"
            ],
            "application/vnd.google.colaboratory.intrinsic+json": {
              "type": "string"
            }
          },
          "metadata": {},
          "execution_count": 54
        }
      ]
    },
    {
      "cell_type": "code",
      "source": [],
      "metadata": {
        "id": "vNS8KKk_k1hF"
      },
      "execution_count": null,
      "outputs": []
    }
  ]
}